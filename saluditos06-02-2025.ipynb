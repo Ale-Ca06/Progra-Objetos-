{
  "nbformat": 4,
  "nbformat_minor": 0,
  "metadata": {
    "colab": {
      "provenance": [],
      "authorship_tag": "ABX9TyN28fpL7tm0xYDv5bbwdubK",
      "include_colab_link": true
    },
    "kernelspec": {
      "name": "python3",
      "display_name": "Python 3"
    },
    "language_info": {
      "name": "python"
    }
  },
  "cells": [
    {
      "cell_type": "markdown",
      "metadata": {
        "id": "view-in-github",
        "colab_type": "text"
      },
      "source": [
        "<a href=\"https://colab.research.google.com/github/Ale-Ca06/Progra-Objetos-/blob/main/saluditos06-02-2025.ipynb\" target=\"_parent\"><img src=\"https://colab.research.google.com/assets/colab-badge.svg\" alt=\"Open In Colab\"/></a>"
      ]
    },
    {
      "cell_type": "code",
      "execution_count": 25,
      "metadata": {
        "colab": {
          "base_uri": "https://localhost:8080/"
        },
        "id": "AYN39Rd13NMc",
        "outputId": "6add43ee-54b5-4c77-9243-6d0a6171fa1f"
      },
      "outputs": [
        {
          "output_type": "stream",
          "name": "stdout",
          "text": [
            "hola, alejandro!\n"
          ]
        }
      ],
      "source": [
        "class saludo():\n",
        "  def __init__(self):\n",
        "    self.nombre = \"alejandro\"\n",
        "\n",
        "  def saludo(self):\n",
        "    print(f\"hola, {self.nombre}!\")\n",
        "\n",
        "x = saludo()\n",
        "x.saludo()\n"
      ]
    },
    {
      "cell_type": "markdown",
      "source": [
        "Programa hecho por: Alejandro Castillo Martinez\n",
        "06/02/25"
      ],
      "metadata": {
        "id": "6eFBPZIU7ZYo"
      }
    }
  ]
}